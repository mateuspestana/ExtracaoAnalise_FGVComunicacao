{
 "cells": [
  {
   "cell_type": "markdown",
   "metadata": {},
   "source": [
    "# Projeto 2 - Extração e Análise de Métricas em Redes Sociais\n",
    "\n",
    "Total: 0,5 Ponto\n",
    "\n",
    "Para executar as análises, não esqueça de instalar as bibliotecas necessárias em requirements.txt\n",
    "\n",
    "No terminal...\n",
    "```bash\n",
    "pip install -r requirements.txt\n",
    "```\n",
    "(Verifique se está na pasta do mesmo arquivo requirements.txt. Para descobrir, digite `dir` e veja se o arquivo aparece na lista)"
   ]
  },
  {
   "cell_type": "code",
   "execution_count": null,
   "metadata": {},
   "outputs": [],
   "source": [
    "aluno = input('Qual o nome do(s) aluno(s)?:   ')\n",
    "print(f'Aluno(s) {aluno} registrado(s) com sucesso!')"
   ]
  },
  {
   "cell_type": "markdown",
   "metadata": {},
   "source": [
    "### 0) Preparação\n",
    "\n",
    "Escolha uma base da pasta \"bases\" que se inicie com \"tktk_\" e termine com \".csv\", e abra-a. Caso queira utilizar uma base própria, seja do Instagram ou TikTok, sinta-se à vontade. Atente que, caso a base escolhida não seja uma da pasta, você precisará tratá-la adequadamente. Abaixo, segue um código de exemplo para tratar uma base do Tiktok oriunda do Zeeschuimer. \n",
    "\n",
    "```python\n",
    "colunas_desejadas = ['id', 'desc', 'challenges', 'createTime', 'video.duration', 'video.cover', 'author.id',\n",
    "                'author.nickname', 'author.uniqueId','author.verified', 'music.title', 'authorStats.followingCount',\n",
    "                'authorStats.followerCount', 'authorStats.heartCount', 'authorStats.videoCount',\n",
    "                'authorStats.diggCount', 'authorStats.heart', 'statsV2.collectCount', 'statsV2.commentCount',\n",
    "                'statsV2.diggCount', 'statsV2.playCount', 'statsV2.shareCount']\n",
    "df = df[colunas_desejadas]\n",
    "df['createdAt'] = df['createTime'].apply(lambda x: pd.Timestamp(x, unit='s'))\n",
    "\n",
    "def preenche_url(item):\n",
    "    return f\"https://www.tiktok.com/@{item['author.uniqueId']}/video/{item['id']}\"\n",
    "\n",
    "df['url'] = df.apply(preenche_url, axis=1)\n",
    "df['statsV2.diggCount'] = df['statsV2.diggCount'].astype(float)\n",
    "df['statsV2.playCount'] = df['statsV2.playCount'].astype(float)\n",
    "df['statsV2.shareCount'] = df['statsV2.shareCount'].astype(float)\n",
    "df['statsV2.commentCount'] = df['statsV2.commentCount'].astype(float)\n",
    "df['statsV2.collectCount'] = df['statsV2.collectCount'].astype(float)\n",
    "\n",
    "def get_hashtags(lista):\n",
    "    resultado = []\n",
    "    try:\n",
    "        for item in lista:\n",
    "            resultado.append(item['title'])\n",
    "        return resultado\n",
    "    except:\n",
    "        return resultado\n",
    "  \n",
    "df['hashtags'] = df['challenges'].apply(get_hashtags)\n",
    "```\n",
    "\n",
    "As bases do TikTok disponíveis na pasta \"bases\" são:\n",
    "\n",
    "- tktk_base1.csv\n",
    "- tktk_base2.csv\n",
    "- tktk_base3.csv\n",
    "\n",
    "### Lembrete: todos os gráficos gerados tem que ser LEGÍVEIS, ou seja, interpretáveis. Faça escolhas razoáveis para que os gráficos estejam de acordo. \n",
    "\n",
    "### 1) Abertura da base e estatísticas gerais (0,1)\n",
    "\n",
    "Abra a base escolhida, exiba as primeiras 15 linhas, e mostre, para **cada variável numérica** da base, a contagem de linhas, a média, o mínimo, o percentil 25%, a mediana (percentil 50%), o percentil 75%, o máximo e o desvio padrão. (0,05)\n",
    "\n",
    "Abaixo do código, faça um comentário interpretativo sobre o que você observou nos resultados. (0,05)"
   ]
  },
  {
   "cell_type": "code",
   "execution_count": null,
   "metadata": {},
   "outputs": [],
   "source": []
  },
  {
   "cell_type": "markdown",
   "metadata": {},
   "source": [
    "> Comentário: "
   ]
  },
  {
   "cell_type": "markdown",
   "metadata": {},
   "source": [
    "### 2) Qual a média e a mediana dos likes, comentários, compartilhamentos e plays, por autor? (0,1)\n",
    "\n",
    "Calcule a média e a mediana dos likes, comentários, compartilhamentos e plays, por autor. (0,05)\n",
    "\n",
    "Abaixo do código, faça um comentário interpretativo sobre o que você observou nos resultados. (0,05)"
   ]
  },
  {
   "cell_type": "code",
   "execution_count": null,
   "metadata": {},
   "outputs": [],
   "source": []
  },
  {
   "cell_type": "markdown",
   "metadata": {},
   "source": [
    "> Comentário:"
   ]
  },
  {
   "cell_type": "markdown",
   "metadata": {},
   "source": [
    "### 3) Qual a média da proporção, por usuário, de comentários por like? Ou seja, a cada like, quantos comentários cada usuário recebe? Organize por quem engaja mais (nesse caso, quem tem mais comentários por like) usando o método .sort_values(). (0,1) \n",
    "\n",
    "Calcule a proporção de comentários por like em cada vídeo, e depois, a média dessa proporção por autor. Organize por ordem decrescente a partir dessa métrica criada. (0,05)\n",
    "\n",
    "Abaixo do código, faça um comentário interpretativo sobre o que você observou nos resultados. (0,05)"
   ]
  },
  {
   "cell_type": "markdown",
   "metadata": {},
   "source": [
    "> Comentário:"
   ]
  },
  {
   "cell_type": "markdown",
   "metadata": {},
   "source": [
    "### 4) Crie um gráfico de barras que mostre a quantidade de vídeos por autor. (0,1)\n",
    "\n",
    "Crie um gráfico de barras que mostre a quantidade de vídeos por autor, utilizando o seaborn ou matplotlib (0,05)\n",
    "\n",
    "Abaixo do gráfico, faça um comentário interpretativo sobre o que você observou nos resultados. (0,05)"
   ]
  },
  {
   "cell_type": "code",
   "execution_count": null,
   "metadata": {},
   "outputs": [],
   "source": []
  },
  {
   "cell_type": "markdown",
   "metadata": {},
   "source": [
    "> Comentário:"
   ]
  },
  {
   "cell_type": "markdown",
   "metadata": {},
   "source": [
    "### 5) Faça uma nuvem de palavras com as 100 hashtags mais utilizadas na base. (0,1)\n",
    "\n",
    "Faça uma nuvem de palavras com as 100 hashtags mais utilizadas na base. (0,05)\n",
    "\n",
    "Abaixo do gráfico, faça um comentário interpretativo sobre o que você observou nos resultados. (0,05)"
   ]
  },
  {
   "cell_type": "code",
   "execution_count": null,
   "metadata": {},
   "outputs": [],
   "source": []
  },
  {
   "cell_type": "markdown",
   "metadata": {},
   "source": [
    "> Comentário:"
   ]
  },
  {
   "cell_type": "markdown",
   "metadata": {},
   "source": [
    "# Extra: 0,1\n",
    "\n",
    "Identifique o tema do dataset com base nas análises anteriores. "
   ]
  },
  {
   "cell_type": "markdown",
   "metadata": {},
   "source": [
    "# Resposta:"
   ]
  }
 ],
 "metadata": {
  "kernelspec": {
   "display_name": ".venv",
   "language": "python",
   "name": "python3"
  },
  "language_info": {
   "codemirror_mode": {
    "name": "ipython",
    "version": 3
   },
   "file_extension": ".py",
   "mimetype": "text/x-python",
   "name": "python",
   "nbconvert_exporter": "python",
   "pygments_lexer": "ipython3",
   "version": "3.12.11"
  }
 },
 "nbformat": 4,
 "nbformat_minor": 2
}
